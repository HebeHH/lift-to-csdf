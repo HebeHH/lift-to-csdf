{
 "cells": [
  {
   "cell_type": "code",
   "execution_count": 244,
   "metadata": {
    "collapsed": true
   },
   "outputs": [],
   "source": [
    "liftdir = \"/Users/hebe/Dropbox/Yale-NUS/Yr4/capstone/forrealsies/lift\"\n",
    "object_name = \"AllPrograms\"\n",
    "\n",
    "opening = \"\"\"package ir.printer\n",
    "\n",
    "import ir._\n",
    "import ir.ast._\n",
    "import lift.arithmetic._\n",
    "import opencl.ir._\n",
    "import opencl.ir.pattern._\n",
    "import opencl.ir.abs\n",
    "\n",
    "object \"\"\" + object_name + \"{\\n\""
   ]
  },
  {
   "cell_type": "code",
   "execution_count": 245,
   "metadata": {
    "collapsed": true
   },
   "outputs": [],
   "source": [
    "import os, re\n",
    "\n",
    "def flatten(lol):\n",
    "    return [val for sublist in lol for val in sublist]"
   ]
  },
  {
   "cell_type": "code",
   "execution_count": 246,
   "metadata": {},
   "outputs": [],
   "source": [
    "programs = os.listdir(liftdir + \"/highLevel\")\n",
    "programs = [x for x in programs if \n",
    "            os.path.isfile(os.path.join(liftdir,\"highLevel\",x)) and ('.' not in x)]"
   ]
  },
  {
   "cell_type": "code",
   "execution_count": 247,
   "metadata": {},
   "outputs": [],
   "source": [
    "parts = []\n",
    "\n",
    "for program in programs:\n",
    "    with open(os.path.join(liftdir,\"highLevel\",program)) as f:\n",
    "        p = f.read()\n",
    "    parts += p.split('\\n\\n')"
   ]
  },
  {
   "cell_type": "code",
   "execution_count": 248,
   "metadata": {},
   "outputs": [],
   "source": [
    "sizevars = [x for x in parts if \"SizeVar\" in x and x.startswith(\"val\")]\n",
    "arraytypes = set([x for x in parts if \"ArrayType\" in x and x.startswith(\"val\")])\n",
    "userfuns = set([x for x in parts if \"UserFun\" in x and x.startswith(\"val\")])\n",
    "helpers = set([x for x in parts if x.startswith(\"def\")])\n",
    "mains  = [x for x in parts if x.startswith(\"fun\")]\n",
    "others = [x for x in parts if \n",
    "          len(x) > 5 and\n",
    "          x not in list(sizevars) + list(helpers) + list(mains) + list(userfuns) + list(arraytypes)]"
   ]
  },
  {
   "cell_type": "code",
   "execution_count": 249,
   "metadata": {},
   "outputs": [],
   "source": [
    "for other in others:\n",
    "    print(other + \"\\n\\n\")"
   ]
  },
  {
   "cell_type": "code",
   "execution_count": 250,
   "metadata": {},
   "outputs": [
    {
     "name": "stdout",
     "output_type": "stream",
     "text": [
      "{'C', 'K', 'M', 'X', 'F', 'P', 'N'}\n",
      "{'C', 'K', 'F', 'M', 'k', 'xSize', 'kSize', 'P', 'N'}\n"
     ]
    }
   ],
   "source": [
    "\n",
    "print(set(re.findall(r\"SizeVar\\(\\\"([A-Z])\\\"\\)\", \"\".join(sizevars))))\n",
    "print(set(re.findall(r\"val\\s+([A-Za-z]+)\\s+=\\s+SizeVar\", \"\".join(sizevars))))\n"
   ]
  },
  {
   "cell_type": "code",
   "execution_count": 251,
   "metadata": {},
   "outputs": [
    {
     "data": {
      "text/plain": [
       "{'val C = SizeVar(\"C\")',\n",
       " 'val F = SizeVar(\"F\")',\n",
       " 'val K = SizeVar(\"K\")',\n",
       " 'val M = SizeVar(\"M\")',\n",
       " 'val N = SizeVar(\"N\")',\n",
       " 'val P = SizeVar(\"P\")',\n",
       " 'val k = SizeVar(\"K\")',\n",
       " 'val kSize = SizeVar(\"K\")',\n",
       " 'val xSize = SizeVar(\"X\")'}"
      ]
     },
     "execution_count": 251,
     "metadata": {},
     "output_type": "execute_result"
    }
   ],
   "source": [
    "sv = flatten([x.split('\\n') for x in sizevars])\n",
    "sv = [x.split(')')[0] + ')' for x in sv if 'SizeVar' in x]\n",
    "sizevars = set(sv)\n",
    "set(sv)"
   ]
  },
  {
   "cell_type": "code",
   "execution_count": 252,
   "metadata": {},
   "outputs": [
    {
     "name": "stdout",
     "output_type": "stream",
     "text": [
      "Checks:\n",
      "helpers are a-go\n",
      "userfuns are a-go\n",
      "Correct number of main programs\n"
     ]
    }
   ],
   "source": [
    "helper_names = re.findall(r\"def ([a-zA-Z0-9]+)\", ''.join(helpers))\n",
    "userfun_names = re.findall(r\"val\\s+([a-zA-Z0-9]+)\\s+=\\s+UserFun\", ''.join(userfuns))\n",
    "\n",
    "def check_by_name(name):\n",
    "    return [x for x in parts if name in x[0:10+len(name)]]\n",
    "\n",
    "duplicates = []\n",
    "print(\"Checks:\")\n",
    "if len(set(helper_names)) != len(helpers):\n",
    "    print(\"WARNING: duplicate helper names\")\n",
    "    duplicates +=[x for x in helper_names if helper_names.count(x) > 1]\n",
    "else:\n",
    "    print(\"helpers are a-go\")\n",
    "    \n",
    "if len(set(userfun_names)) != len(userfuns):\n",
    "    print(\"WARNING: duplicate userfun names\")\n",
    "    duplicates +=[x for x in userfun_names if userfun_names.count(x) > 1]\n",
    "else:\n",
    "    print(\"userfuns are a-go\")\n",
    "\n",
    "if len(mains) != len(programs):\n",
    "    print(\"WARNING: Incorrect number of main programs\")\n",
    "else:\n",
    "    print(\"Correct number of main programs\")\n",
    "    \n",
    "for dupl in set(duplicates):\n",
    "    print('\\n\\n'+dupl)\n",
    "    for version in check_by_name(dupl):\n",
    "        print('\\n'+version)"
   ]
  },
  {
   "cell_type": "code",
   "execution_count": 253,
   "metadata": {},
   "outputs": [],
   "source": [
    "mains = ['val ' + x[0] + ' = ' + x[1] for x in zip(programs, mains)]\n",
    "\n",
    "full_set = (opening + \"\\n\" + \"\\n\".join(sizevars)\n",
    "             + \"\\n\" + \"\\n\".join(arraytypes)\n",
    "             + \"\\n\" + \"\\n\".join(userfuns)\n",
    "             + \"\\n\" + \"\\n\".join(helpers)\n",
    "             + \"\\n\" + \"\\n\".join(mains)\n",
    "             + \"\\n}\"\n",
    "           )"
   ]
  },
  {
   "cell_type": "code",
   "execution_count": 254,
   "metadata": {},
   "outputs": [
    {
     "name": "stdout",
     "output_type": "stream",
     "text": [
      "The available programs are:\n",
      " gemvN\n",
      "mmNN\n",
      "dot\n",
      "mmNT\n",
      "nbody\n",
      "gesummvNN\n",
      "gemvT\n",
      "molecularDynamics\n",
      "mriqComputeQ\n",
      "mandelbrot\n",
      "blackScholes\n",
      "mriqPhiMag\n",
      "asum\n",
      "mv\n",
      "nearestNeighbour\n",
      "mmTT\n",
      "scal\n",
      "mvAsMM\n",
      "kmeans\n",
      "gesummvTT\n",
      "mmTN\n"
     ]
    }
   ],
   "source": [
    "with open(liftdir + \"/src/main/ir/printer/\" + object_name + \".scala\", 'w') as f:\n",
    "    f.write(full_set)\n",
    "    \n",
    "print(\"The available programs are:\\n\",\"\\n\".join(programs))"
   ]
  },
  {
   "cell_type": "code",
   "execution_count": null,
   "metadata": {
    "collapsed": true
   },
   "outputs": [],
   "source": []
  },
  {
   "cell_type": "code",
   "execution_count": 239,
   "metadata": {
    "collapsed": true
   },
   "outputs": [],
   "source": [
    "with open(liftdir + \"/highLevel/mriqPhiMag\") as f:\n",
    "    pp = f.read()"
   ]
  },
  {
   "cell_type": "code",
   "execution_count": 241,
   "metadata": {},
   "outputs": [],
   "source": [
    "a = pp.split('\\n\\n')"
   ]
  },
  {
   "cell_type": "code",
   "execution_count": 243,
   "metadata": {},
   "outputs": [
    {
     "data": {
      "text/plain": [
       "4"
      ]
     },
     "execution_count": 243,
     "metadata": {},
     "output_type": "execute_result"
    }
   ],
   "source": [
    "len(a)"
   ]
  },
  {
   "cell_type": "code",
   "execution_count": 256,
   "metadata": {},
   "outputs": [
    {
     "name": "stdout",
     "output_type": "stream",
     "text": [
      "TestPrinter(\"./printed/\", \"gemvN_v1\", gemvN)\n",
      "TestPrinter(\"./printed/\", \"mmNN_v1\", mmNN)\n",
      "TestPrinter(\"./printed/\", \"dot_v1\", dot)\n",
      "TestPrinter(\"./printed/\", \"mmNT_v1\", mmNT)\n",
      "TestPrinter(\"./printed/\", \"nbody_v1\", nbody)\n",
      "TestPrinter(\"./printed/\", \"gesummvNN_v1\", gesummvNN)\n",
      "TestPrinter(\"./printed/\", \"gemvT_v1\", gemvT)\n",
      "TestPrinter(\"./printed/\", \"molecularDynamics_v1\", molecularDynamics)\n",
      "TestPrinter(\"./printed/\", \"mriqComputeQ_v1\", mriqComputeQ)\n",
      "TestPrinter(\"./printed/\", \"mandelbrot_v1\", mandelbrot)\n",
      "TestPrinter(\"./printed/\", \"blackScholes_v1\", blackScholes)\n",
      "TestPrinter(\"./printed/\", \"mriqPhiMag_v1\", mriqPhiMag)\n",
      "TestPrinter(\"./printed/\", \"asum_v1\", asum)\n",
      "TestPrinter(\"./printed/\", \"mv_v1\", mv)\n",
      "TestPrinter(\"./printed/\", \"nearestNeighbour_v1\", nearestNeighbour)\n",
      "TestPrinter(\"./printed/\", \"mmTT_v1\", mmTT)\n",
      "TestPrinter(\"./printed/\", \"scal_v1\", scal)\n",
      "TestPrinter(\"./printed/\", \"mvAsMM_v1\", mvAsMM)\n",
      "TestPrinter(\"./printed/\", \"kmeans_v1\", kmeans)\n",
      "TestPrinter(\"./printed/\", \"gesummvTT_v1\", gesummvTT)\n",
      "TestPrinter(\"./printed/\", \"mmTN_v1\", mmTN)\n"
     ]
    }
   ],
   "source": [
    "print(\"\\n\".join(['TestPrinter(\"./printed/\", \"'+x+'_v1\", '+x+')' for x in programs]))"
   ]
  },
  {
   "cell_type": "code",
   "execution_count": null,
   "metadata": {
    "collapsed": true
   },
   "outputs": [],
   "source": []
  }
 ],
 "metadata": {
  "kernelspec": {
   "display_name": "Python 3",
   "language": "python",
   "name": "python3"
  },
  "language_info": {
   "codemirror_mode": {
    "name": "ipython",
    "version": 3
   },
   "file_extension": ".py",
   "mimetype": "text/x-python",
   "name": "python",
   "nbconvert_exporter": "python",
   "pygments_lexer": "ipython3",
   "version": "3.6.5"
  }
 },
 "nbformat": 4,
 "nbformat_minor": 2
}
