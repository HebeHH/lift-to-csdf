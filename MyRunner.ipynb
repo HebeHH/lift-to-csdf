{
 "cells": [
  {
   "cell_type": "code",
   "execution_count": 13,
   "metadata": {},
   "outputs": [
    {
     "name": "stdout",
     "output_type": "stream",
     "text": [
      "Copying subgraph 0\n",
      "Copied subgraph 0\n",
      "Copying subgraph 1\n",
      "Copied subgraph 1\n",
      "Copying subgraph 2\n",
      "Copied subgraph 2\n",
      "n1: Param\n",
      "n2: Param\n",
      "n3: Param\n",
      "n4: Param\n",
      "n10XDA_x0: Dearray\n",
      "n10XDA_x1: Dearray\n",
      "n10XRA: Rearray\n",
      "n10XZippee: Zippee\n",
      "n9XDA: Dearray\n",
      "n9XRA: Rearray\n",
      "n9XJnr: Joiner\n",
      "n9XSpl: Splitter\n",
      "n5_x1: Param\n",
      "n7_x1: Get\n",
      "n8_x1: Get\n",
      "n6_x1: Mather\n",
      "n5_x2: Param\n",
      "n7_x2: Get\n",
      "n8_x2: Get\n",
      "n6_x2: Mather\n",
      "n5_x3: Param\n",
      "n7_x3: Get\n",
      "n8_x3: Get\n",
      "n6_x3: Mather\n",
      "n11XDA: Dearray\n",
      "n11XRA: Rearray\n",
      "n11XPARA: Param\n",
      "[('n1', 'n11XDA', 'Array (3, Array (3, Float))')]\n",
      "[('n11XPARA', 'n4', 'Array (3, Float)')]\n",
      "[('n11XDA', 'n3', 'Array (3, Float)')]\n",
      "[('n9XRA', 'n11XPARA', 'Array (3, Float)')]\n",
      "[('n11XPARA', 'n11XRA', 'Array (3, Float)')]\n",
      "[('n3', 'n10XDA_x0', 'Array (3, Float)')]\n",
      "[('n4', 'n10XDA_x1', 'Array (3, Float)')]\n",
      "[('n10XRA', 'n9XDA', 'Array (3, Tuple (Float, Float))')]\n",
      "[('n10XDA_x0', 'n10XZippee', 'Float')]\n",
      "[('n10XDA_x1', 'n10XZippee', 'Float')]\n",
      "[('n10XZippee', 'n10XRA', 'Tuple (Float, Float)')]\n",
      "[('n9XDA', 'n9XSpl', 'Tuple (Float, Float)')]\n",
      "[('n9XJnr', 'n9XRA', 'Float')]\n",
      "[('n9XSpl', 'n5_x1', 'Tuple (Float, Float)')]\n",
      "[('n6_x1', 'n9XJnr', 'Float')]\n",
      "[('n5_x1', 'n7_x1', 'Tuple (Float, Float)')]\n",
      "[('n7_x1', 'n6_x1', 'Float')]\n",
      "[('n5_x1', 'n8_x1', 'Tuple (Float, Float)')]\n",
      "[('n8_x1', 'n6_x1', 'Float')]\n",
      "[('n9XSpl', 'n5_x2', 'Tuple (Float, Float)')]\n",
      "[('n6_x2', 'n9XJnr', 'Float')]\n",
      "[('n5_x2', 'n7_x2', 'Tuple (Float, Float)')]\n",
      "[('n7_x2', 'n6_x2', 'Float')]\n",
      "[('n5_x2', 'n8_x2', 'Tuple (Float, Float)')]\n",
      "[('n8_x2', 'n6_x2', 'Float')]\n",
      "[('n9XSpl', 'n5_x3', 'Tuple (Float, Float)')]\n",
      "[('n6_x3', 'n9XJnr', 'Float')]\n",
      "[('n5_x3', 'n7_x3', 'Tuple (Float, Float)')]\n",
      "[('n7_x3', 'n6_x3', 'Float')]\n",
      "[('n5_x3', 'n8_x3', 'Tuple (Float, Float)')]\n",
      "[('n8_x3', 'n6_x3', 'Float')]\n"
     ]
    },
    {
     "ename": "NameError",
     "evalue": "name 'x' is not defined",
     "output_type": "error",
     "traceback": [
      "\u001b[0;31m---------------------------------------------------------------------------\u001b[0m",
      "\u001b[0;31mNameError\u001b[0m                                 Traceback (most recent call last)",
      "\u001b[0;32m~/Dropbox/Uni/Capstone/lift-to-csdf/Generators.ipynb\u001b[0m in \u001b[0;36m<module>\u001b[0;34m\u001b[0m\n\u001b[0;32m----> 1\u001b[0;31m \u001b[0mx\u001b[0m\u001b[0;34m\u001b[0m\u001b[0;34m\u001b[0m\u001b[0m\n\u001b[0m",
      "\u001b[0;31mNameError\u001b[0m: name 'x' is not defined"
     ]
    }
   ],
   "source": [
    "%run Generators.ipynb\n",
    "\n",
    "from os import listdir\n",
    "from os.path import isfile, join\n",
    "import sys\n",
    "from tqdm import tqdm"
   ]
  },
  {
   "cell_type": "code",
   "execution_count": 14,
   "metadata": {},
   "outputs": [],
   "source": [
    "parreducemethods = [parallel_reduce, recursive_map, recursive_reduce]\n",
    "parmethods = [parallel_reduce, parallel_map, recursive_reduce]\n",
    "naivemethods = [recursive_map, recursive_reduce]\n",
    "parmapmethods = [parallel_map, recursive_reduce]"
   ]
  },
  {
   "cell_type": "code",
   "execution_count": 15,
   "metadata": {},
   "outputs": [],
   "source": []
  },
  {
   "cell_type": "code",
   "execution_count": 18,
   "metadata": {},
   "outputs": [],
   "source": [
    "def generate_and_write(svs, fs):\n",
    "    csdfs = []\n",
    "\n",
    "    print(\"Generating\")\n",
    "    # make csdfs using parallel/not parallel map/reduce methods\n",
    "    for sv in tqdm(svs):\n",
    "        for fn in tqdm(fs):\n",
    "            csdfs.append((fn, 'par'+str(sv), try_do(\"highLevel/\"+fn, parmethods, [sv] * 10)))\n",
    "            csdfs.append((fn, 'naive'+str(sv), try_do(\"highLevel/\"+fn, naivemethods, [sv] * 10)))\n",
    "            csdfs.append((fn, 'parreduce'+str(sv), try_do(\"highLevel/\"+fn, parreducemethods, [sv] * 10)))\n",
    "            csdfs.append((fn, 'parmap'+str(sv), try_do(\"highLevel/\"+fn, parmapmethods, [sv] * 10)))   \n",
    "    # delete ones where it didn't work\n",
    "    csdfs = [x for x in csdfs if x[2] != False]         \n",
    "    print('Generation Complete')\n",
    "\n",
    "    # Transform by making zip \n",
    "    print(\"Discrete Zip\")\n",
    "    extras = []\n",
    "    for x in tqdm(csdfs):\n",
    "        if 'dz' not in x[1]:\n",
    "            g = x[2]['graph']\n",
    "            nodes = [getcn(n) for n in g['nodes']]\n",
    "            if 'Zip' in nodes:\n",
    "                csdf_copy = copy.deepcopy(g)\n",
    "                discrete_zip(csdf_copy, None)\n",
    "                extras.append((x[0],  x[1]+\"_dz\", csdf_copy))\n",
    "    csdfs += extras\n",
    "    csdfs = [(a[0], a[1], b) for a, b in dict([((x[0], x[1]), x[2]) for x in csdfs]).items()]\n",
    "    print('Discrete Zip complete')\n",
    "\n",
    "\n",
    "    # Write to file\n",
    "    print(\"Writing to files\")\n",
    "    for csdf in tqdm(csdfs):\n",
    "        g = csdf[2] if 'dz' in csdf[1] else csdf[2]['graph']\n",
    "        nbase =  'curr/'+csdf[0]+\"_\"+csdf[1]\n",
    "        n1 =nbase+'_.xml'\n",
    "        n2 = nbase+'_cmap_.xml'\n",
    "        write_csdf(g, n1)\n",
    "        smushed = compose_maps(g)\n",
    "        write_csdf(smushed, n2)\n",
    "\n",
    "    print('Finished')"
   ]
  },
  {
   "cell_type": "code",
   "execution_count": null,
   "metadata": {},
   "outputs": [],
   "source": [
    "mypath = 'highlevel/'\n",
    "fs = [f for f in listdir(mypath) if isfile(join(mypath, f)) and not f.endswith('json')]\n",
    "fs = [x for x in fs if 'mm' not in x] + ['mmNT']"
   ]
  },
  {
   "cell_type": "code",
   "execution_count": 19,
   "metadata": {},
   "outputs": [
    {
     "name": "stderr",
     "output_type": "stream",
     "text": [
      "  0%|          | 0/1 [00:00<?, ?it/s]\n",
      "100%|██████████| 1/1 [00:00<00:00, 26.78it/s]\n",
      "100%|██████████| 1/1 [00:00<00:00, 21.53it/s]\n",
      "100%|██████████| 4/4 [00:00<00:00, 160.93it/s]\n",
      "100%|██████████| 8/8 [00:00<00:00, 236.41it/s]"
     ]
    },
    {
     "name": "stdout",
     "output_type": "stream",
     "text": [
      "Generating\n",
      "Copying subgraph 0\n",
      "Copied subgraph 0\n",
      "Copying subgraph 1\n",
      "Copied subgraph 1\n",
      "Copying subgraph 2\n",
      "Copied subgraph 2\n",
      "Copying subgraph 3\n",
      "Copied subgraph 3\n",
      "Copying subgraph 4\n",
      "Copied subgraph 4\n",
      "Copying subgraph 0\n",
      "Copied subgraph 0\n",
      "Copying subgraph 1\n",
      "Copied subgraph 1\n",
      "Copying subgraph 2\n",
      "Copied subgraph 2\n",
      "Copying subgraph 3\n",
      "Copied subgraph 3\n",
      "Copying subgraph 4\n",
      "Copied subgraph 4\n",
      "Generation Complete\n",
      "Discrete Zip\n",
      "Discrete Zip complete\n",
      "Writing to files\n",
      "False Tuple (Float, Float)\n",
      "False Tuple (Float, Float)\n",
      "False Tuple (Float, Float)\n",
      "False Tuple (Float, Float)\n",
      "False Tuple (Float, Float)\n",
      "False Tuple (Float, Float)\n",
      "False Tuple (Float, Float)\n",
      "False Tuple (Float, Float)\n",
      "False Tuple (Float, Float)\n",
      "False Tuple (Float, Float)\n",
      "False Tuple (Float, Float)\n",
      "False Tuple (Float, Float)\n",
      "Finished\n"
     ]
    },
    {
     "name": "stderr",
     "output_type": "stream",
     "text": [
      "\n"
     ]
    }
   ],
   "source": [
    "generate_and_write([1,2,3,4,5,10,15,20,25,30,50,70,100], fs)"
   ]
  }
 ],
 "metadata": {
  "kernelspec": {
   "display_name": "Python 3",
   "language": "python",
   "name": "python3"
  },
  "language_info": {
   "codemirror_mode": {
    "name": "ipython",
    "version": 3
   },
   "file_extension": ".py",
   "mimetype": "text/x-python",
   "name": "python",
   "nbconvert_exporter": "python",
   "pygments_lexer": "ipython3",
   "version": "3.7.6"
  }
 },
 "nbformat": 4,
 "nbformat_minor": 4
}
